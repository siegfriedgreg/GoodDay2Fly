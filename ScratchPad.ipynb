{
 "cells": [
  {
   "cell_type": "code",
   "execution_count": 5,
   "source": [
    "#-------------------------------------------------------------------------------\n",
    "#-------------------------------------------------------------------------------\n",
    "\n",
    "'''\n",
    "\n",
    "Forecast -> 'list': 0 - 39\n",
    "                *   'clouds' -> dict of int\n",
    "                    'dt' -> int\n",
    "                *   'dt_txt' -> str\n",
    "                *   'main' -> dict of feels_like,temp,pressure...\n",
    "                    'pop' -> float\n",
    "                    'rain' -> dict\n",
    "                    'sys' -> dict\n",
    "                *   'visibility' -> int\n",
    "                *   'weather' -> list of dict\n",
    "                *   'wind' -> dict of deg, gust, speed        \n",
    "\n",
    "'''\n",
    "from time import strftime as sf\n",
    "from time import localtime as lt\n",
    "\n",
    "tx = 1629439200\n",
    "mx = lt(tx)\n",
    "sf(\"%H\",mx)\n",
    "\n",
    "#-------------------------------------------------------------------------------\n",
    "#-------------------------------------------------------------------------------\n"
   ],
   "outputs": [
    {
     "output_type": "execute_result",
     "data": {
      "text/plain": [
       "'02'"
      ]
     },
     "metadata": {},
     "execution_count": 5
    }
   ],
   "metadata": {}
  },
  {
   "cell_type": "code",
   "execution_count": null,
   "source": [],
   "outputs": [],
   "metadata": {}
  }
 ],
 "metadata": {
  "kernelspec": {
   "name": "python3",
   "display_name": "Python 3.8.10 64-bit"
  },
  "language_info": {
   "codemirror_mode": {
    "name": "ipython",
    "version": 3
   },
   "file_extension": ".py",
   "mimetype": "text/x-python",
   "name": "python",
   "nbconvert_exporter": "python",
   "pygments_lexer": "ipython3",
   "version": "3.8.10"
  },
  "interpreter": {
   "hash": "916dbcbb3f70747c44a77c7bcd40155683ae19c65e1c03b4aa3499c5328201f1"
  }
 },
 "nbformat": 4,
 "nbformat_minor": 5
}