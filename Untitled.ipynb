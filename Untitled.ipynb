{
 "cells": [
  {
   "cell_type": "code",
   "execution_count": 19,
   "id": "1621fa20",
   "metadata": {},
   "outputs": [
    {
     "name": "stdout",
     "output_type": "stream",
     "text": [
      "1629402770\n",
      "Thu, August 19 \n"
     ]
    }
   ],
   "source": [
    "#-------------------------------------------------------------------------------\n",
    "#-------------------------------------------------------------------------------\n",
    "#-------------------------------------------------------------------------------\n",
    "\n",
    "import json\n",
    "from time import localtime, strftime, time\n",
    "\n",
    "\n",
    "def convert_date(value):\n",
    "    print(value)\n",
    "    \n",
    "    return strftime(\"%a, %B %d \", localtime(value))\n",
    "\n",
    "\n",
    "def print_current_day(args, **kwargs):\n",
    "    \n",
    "    print(convert_date(args['dt']))\n",
    "    \n",
    "    \n",
    "with open('weather_backup.txt', 'r') as input:\n",
    "    kx = json.load(input)\n",
    "    try:\n",
    "        print_current_day( kx )\n",
    "    except Exception as e:\n",
    "        print(e)\n",
    "\n",
    "#-------------------------------------------------------------------------------\n",
    "#-------------------------------------------------------------------------------\n",
    "#-------------------------------------------------------------------------------\n",
    "#-------------------------------------------------------------------------------\n",
    "#-------------------------------------------------------------------------------\n",
    "#-------------------------------------------------------------------------------\n"
   ]
  },
  {
   "cell_type": "code",
   "execution_count": null,
   "id": "b8279d6f",
   "metadata": {},
   "outputs": [],
   "source": []
  }
 ],
 "metadata": {
  "kernelspec": {
   "display_name": "Python 3",
   "language": "python",
   "name": "python3"
  },
  "language_info": {
   "codemirror_mode": {
    "name": "ipython",
    "version": 3
   },
   "file_extension": ".py",
   "mimetype": "text/x-python",
   "name": "python",
   "nbconvert_exporter": "python",
   "pygments_lexer": "ipython3",
   "version": "3.8.8"
  }
 },
 "nbformat": 4,
 "nbformat_minor": 5
}
